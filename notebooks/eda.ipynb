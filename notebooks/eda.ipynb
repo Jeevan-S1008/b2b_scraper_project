{
 "cells": [
  {
   "cell_type": "code",
   "execution_count": null,
   "id": "610dc6ec",
   "metadata": {
    "vscode": {
     "languageId": "plaintext"
    }
   },
   "outputs": [],
   "source": [
    "import pandas as pd\n",
    "import matplotlib.pyplot as plt\n",
    "import seaborn as sns\n",
    "\n",
    "file_path = \"../data/raw/b2b_products.csv\"\n",
    "df = pd.read_csv(file_path)\n",
    "df.head()\n",
    "```\n",
    "\n",
    "## Summary Statistics\n",
    "```python\n",
    "df.describe(include='all')\n",
    "```\n",
    "\n",
    "## Missing Values\n",
    "```python\n",
    "df.isnull().sum()\n",
    "```\n",
    "\n",
    "## Top Products\n",
    "```python\n",
    "df['name'].value_counts().head(10).plot(kind='barh', title='Top Product Names')\n",
    "plt.show()\n",
    "```\n",
    "\n",
    "## Price Distribution\n",
    "```python\n",
    "df['price'] = pd.to_numeric(df['price'].str.replace('[^\\d.]', ''), errors='coerce')\n",
    "sns.histplot(df['price'].dropna(), bins=30)\n",
    "plt.title(\"Price Distribution\")\n",
    "plt.show()\n",
    "```\n",
    "\n",
    "## Supplier Locations\n",
    "```python\n",
    "df['location'].value_counts().head(10).plot(kind='bar', title='Top Supplier Locations')\n",
    "plt.show()"
   ]
  }
 ],
 "metadata": {
  "language_info": {
   "name": "python"
  }
 },
 "nbformat": 4,
 "nbformat_minor": 5
}
